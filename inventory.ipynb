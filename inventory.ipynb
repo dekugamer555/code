{
 "cells": [
  {
   "cell_type": "code",
   "execution_count": 1,
   "id": "80e8743a",
   "metadata": {},
   "outputs": [],
   "source": [
    "import csv as c"
   ]
  },
  {
   "cell_type": "code",
   "execution_count": 6,
   "id": "86b8a967",
   "metadata": {},
   "outputs": [
    {
     "name": "stdout",
     "output_type": "stream",
     "text": [
      "enter the no of detils of stock:3\n",
      "enter the stock no:1\n",
      "enter the stock name:cello\n",
      "enter the no Qty:8\n",
      "enter the stock no:2\n",
      "enter the stock name:flair\n",
      "enter the no Qty:9\n",
      "enter the stock no:2\n",
      "enter the stock name:hitachi\n",
      "enter the no Qty:5\n"
     ]
    }
   ],
   "source": [
    "Inventory = {}\n",
    "StockNo = []\n",
    "StockName = []\n",
    "Qty = []\n",
    "num = int(input('enter the no of detils of stock:'))\n",
    "for loop in range(num):\n",
    "    S = int(input('enter the stock no:'))\n",
    "    St = input('enter the stock name:')\n",
    "    Sm = int(input('enter the no Qty:'))\n",
    "    StockNo.append(S)\n",
    "    StockName.append(St)\n",
    "    Qty.append(Sm)\n",
    "Inventory.update(StockNo=StockNo,StockName=StockName,Qty=Qty)"
   ]
  },
  {
   "cell_type": "code",
   "execution_count": 7,
   "id": "468dbdc0",
   "metadata": {},
   "outputs": [
    {
     "name": "stdout",
     "output_type": "stream",
     "text": [
      "['StockNo', 'StockName', 'Qty']\n",
      "['1', 'cello', '8']\n",
      "['2', 'flair', '9']\n",
      "['2', 'hitachi', '5']\n"
     ]
    }
   ],
   "source": [
    "count = 0 \n",
    "t = open('Inventory.csv','w+',newline='')\n",
    "w = c.writer(t)\n",
    "w.writerow(['StockNo','StockName','Qty'])\n",
    "for loop in range(num):\n",
    "    w.writerow([StockNo[count],StockName[count],Qty[count]])\n",
    "    count = count + 1 \n",
    "t.flush()\n",
    "t.seek(0)\n",
    "r = c.reader(t)\n",
    "for loop in r:\n",
    "    print(loop)"
   ]
  },
  {
   "cell_type": "code",
   "execution_count": 8,
   "id": "1a3633d3",
   "metadata": {},
   "outputs": [],
   "source": [
    "t.close()"
   ]
  },
  {
   "cell_type": "code",
   "execution_count": null,
   "id": "f44fff0d",
   "metadata": {},
   "outputs": [],
   "source": []
  },
  {
   "cell_type": "code",
   "execution_count": null,
   "id": "28b2f856",
   "metadata": {},
   "outputs": [],
   "source": []
  }
 ],
 "metadata": {
  "kernelspec": {
   "display_name": "Python 3 (ipykernel)",
   "language": "python",
   "name": "python3"
  },
  "language_info": {
   "codemirror_mode": {
    "name": "ipython",
    "version": 3
   },
   "file_extension": ".py",
   "mimetype": "text/x-python",
   "name": "python",
   "nbconvert_exporter": "python",
   "pygments_lexer": "ipython3",
   "version": "3.11.4"
  }
 },
 "nbformat": 4,
 "nbformat_minor": 5
}
