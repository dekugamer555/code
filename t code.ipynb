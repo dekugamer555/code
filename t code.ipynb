{
 "cells": [
  {
   "cell_type": "code",
   "execution_count": 1,
   "id": "89a0bbd3",
   "metadata": {},
   "outputs": [],
   "source": [
    "import csv as c"
   ]
  },
  {
   "cell_type": "code",
   "execution_count": 28,
   "id": "14e42728",
   "metadata": {},
   "outputs": [
    {
     "name": "stdout",
     "output_type": "stream",
     "text": [
      "['Name', 'Class', 'Sections']\n",
      "['Nitesh', '11', 'A']\n",
      "['Hitesh', '9', 'B']\n",
      "['Yashi', 'IX', 'A']\n",
      "['Prash', '12', 'B']\n",
      "['Joshika', '9', 'B']\n",
      "['Sanjana', 'IX', 'A']\n",
      "['Darshan', 'IX', 'B']\n",
      "['Goutam', '9', 'A']\n",
      "['Jai', 'IX', 'A']\n",
      "['Jinal', '11', 'B']\n",
      "['Nitesh.S', '12', 'B']\n",
      "['Dhanush', '10', 'A']\n",
      "['Surya', '9', 'B']\n",
      "['Anil', '6', 'A']\n",
      "['Ravi', '7', 'B']\n"
     ]
    }
   ],
   "source": [
    "t = open('Students details.csv','r')\n",
    "r = open('Class 9A.csv','w+',newline='')\n",
    "e = open('Class 9B.csv','w+',newline='')\n",
    "read = c.reader(t)\n",
    "y = c.writer(r)\n",
    "y.writerow(['Name','Class','Section'])\n",
    "z = c.writer(e)\n",
    "z.writerow(['Name','Class','Section'])\n",
    "r.flush()\n",
    "e.flush()\n",
    "for loop in read:\n",
    "    print(loop,)\n",
    "    if '9' in loop[1]:\n",
    "        if 'A' in loop[2]:\n",
    "            y.writerow(loop)\n",
    "            r.flush()\n",
    "        elif 'B' in loop[2]:\n",
    "            z.writerow(loop)\n",
    "            e.flush()\n",
    "    elif 'IX' in loop[1]:\n",
    "        if 'A' in loop[2]:\n",
    "            y.writerow(loop)\n",
    "            r.flush()\n",
    "        elif 'B' in loop[2]:\n",
    "            z.writerow(loop)\n",
    "            e.flush()\n",
    "t.close()\n",
    "r.close()\n",
    "e.close()"
   ]
  },
  {
   "cell_type": "code",
   "execution_count": null,
   "id": "201181b7",
   "metadata": {},
   "outputs": [],
   "source": []
  },
  {
   "cell_type": "code",
   "execution_count": null,
   "id": "2cdc8383",
   "metadata": {},
   "outputs": [],
   "source": []
  },
  {
   "cell_type": "code",
   "execution_count": null,
   "id": "ac912a16",
   "metadata": {},
   "outputs": [],
   "source": []
  }
 ],
 "metadata": {
  "kernelspec": {
   "display_name": "Python 3 (ipykernel)",
   "language": "python",
   "name": "python3"
  },
  "language_info": {
   "codemirror_mode": {
    "name": "ipython",
    "version": 3
   },
   "file_extension": ".py",
   "mimetype": "text/x-python",
   "name": "python",
   "nbconvert_exporter": "python",
   "pygments_lexer": "ipython3",
   "version": "3.11.4"
  }
 },
 "nbformat": 4,
 "nbformat_minor": 5
}
